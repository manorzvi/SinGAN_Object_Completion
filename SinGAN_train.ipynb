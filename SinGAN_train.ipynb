{
 "cells": [
  {
   "cell_type": "code",
   "execution_count": null,
   "metadata": {
    "colab": {},
    "colab_type": "code",
    "id": "-aDS-dVPsVUO"
   },
   "outputs": [],
   "source": [
    "from google.colab import drive\n",
    "drive.mount('/content/gdrive')"
   ]
  },
  {
   "cell_type": "code",
   "execution_count": null,
   "metadata": {
    "colab": {},
    "colab_type": "code",
    "id": "fGk6NG2csVzk"
   },
   "outputs": [],
   "source": [
    "!git clone https://github.com/manorzvi/SinGAN_Image_Completion_Background_Animation"
   ]
  },
  {
   "cell_type": "code",
   "execution_count": null,
   "metadata": {
    "colab": {},
    "colab_type": "code",
    "id": "4t-KBGNlUHP9"
   },
   "outputs": [],
   "source": [
    "import os\n",
    "os.chdir('SinGAN_Image_Completion_Background_Animation')"
   ]
  },
  {
   "cell_type": "code",
   "execution_count": null,
   "metadata": {
    "colab": {},
    "colab_type": "code",
    "id": "1CycOZhsiKs5"
   },
   "outputs": [],
   "source": [
    "train_image = 'nature4.jpg'"
   ]
  },
  {
   "cell_type": "code",
   "execution_count": null,
   "metadata": {
    "colab": {},
    "colab_type": "code",
    "id": "OF3a9SlzUWDy"
   },
   "outputs": [],
   "source": [
    "!python main_train.py --input_name train_image --input_dir 'Input/People' --delete_previous"
   ]
  },
  {
   "cell_type": "code",
   "execution_count": null,
   "metadata": {
    "colab": {},
    "colab_type": "code",
    "id": "qrU7MOD8AEQL"
   },
   "outputs": [],
   "source": [
    "masked_image = 'nature4_mask.jpg'\n",
    "\n",
    "!python paint2image.py --input_name train_image --input_dir 'Input/People' --ref_name masked_image --paint_start_scale 1"
   ]
  },
  {
   "cell_type": "code",
   "execution_count": null,
   "metadata": {
    "colab": {},
    "colab_type": "code",
    "id": "ntNxV5JVWL8w"
   },
   "outputs": [],
   "source": [
    "!from google.colab import files\n",
    "\n",
    "dir_to_save    = 'Output/Paint2image/nature4/nature4_mask_out'\n",
    "saved_dir_name = 'TrainedModels'\n",
    "\n",
    "print('Zip Colab workdir... ', end=' ')\n",
    "shutil.make_archive(saved_dir_name, 'zip', dir_to_save)\n",
    "print('Done.')"
   ]
  },
  {
   "cell_type": "code",
   "execution_count": null,
   "metadata": {
    "colab": {},
    "colab_type": "code",
    "id": "2ygdB5NTWNzq"
   },
   "outputs": [],
   "source": [
    "dfile = saved_dir_name + '.zip'\n",
    "\n",
    "print('Download to Local... ', end=' ')\n",
    "files.download(dfile)\n",
    "print('Done.')"
   ]
  }
 ],
 "metadata": {
  "accelerator": "GPU",
  "colab": {
   "collapsed_sections": [],
   "name": "SinGANgit.ipynb",
   "provenance": []
  },
  "kernelspec": {
   "display_name": "Python 3",
   "language": "python",
   "name": "python3"
  },
  "language_info": {
   "codemirror_mode": {
    "name": "ipython",
    "version": 3
   },
   "file_extension": ".py",
   "mimetype": "text/x-python",
   "name": "python",
   "nbconvert_exporter": "python",
   "pygments_lexer": "ipython3",
   "version": "3.6.9"
  }
 },
 "nbformat": 4,
 "nbformat_minor": 4
}
